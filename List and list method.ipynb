{
 "cells": [
  {
   "cell_type": "code",
   "execution_count": 2,
   "id": "8de0991b",
   "metadata": {},
   "outputs": [
    {
     "name": "stdout",
     "output_type": "stream",
     "text": [
      "['john', 'james', 'kate', True, 10.55, 34]\n"
     ]
    }
   ],
   "source": [
    "x=[\"john\", \"james\", \"kate\", True, 10.55, 34]\n",
    "print(x)"
   ]
  },
  {
   "cell_type": "code",
   "execution_count": 3,
   "id": "964c1ed3",
   "metadata": {},
   "outputs": [
    {
     "data": {
      "text/plain": [
       "6"
      ]
     },
     "execution_count": 3,
     "metadata": {},
     "output_type": "execute_result"
    }
   ],
   "source": [
    "len(x)"
   ]
  },
  {
   "cell_type": "code",
   "execution_count": 4,
   "id": "64e89aa2",
   "metadata": {},
   "outputs": [
    {
     "data": {
      "text/plain": [
       "5"
      ]
     },
     "execution_count": 4,
     "metadata": {},
     "output_type": "execute_result"
    }
   ],
   "source": [
    "x.index(34)"
   ]
  },
  {
   "cell_type": "code",
   "execution_count": 5,
   "id": "2b12211b",
   "metadata": {},
   "outputs": [
    {
     "data": {
      "text/plain": [
       "'john'"
      ]
     },
     "execution_count": 5,
     "metadata": {},
     "output_type": "execute_result"
    }
   ],
   "source": [
    "x[0]"
   ]
  },
  {
   "cell_type": "code",
   "execution_count": 10,
   "id": "d940cd9d",
   "metadata": {},
   "outputs": [
    {
     "data": {
      "text/plain": [
       "['john', 'james', 'kate', True]"
      ]
     },
     "execution_count": 10,
     "metadata": {},
     "output_type": "execute_result"
    }
   ],
   "source": [
    "##slicing\n",
    "x[0:4]"
   ]
  },
  {
   "cell_type": "code",
   "execution_count": 11,
   "id": "f71e6e90",
   "metadata": {},
   "outputs": [
    {
     "data": {
      "text/plain": [
       "['john', 'james', 'kate']"
      ]
     },
     "execution_count": 11,
     "metadata": {},
     "output_type": "execute_result"
    }
   ],
   "source": [
    "x[:-3]"
   ]
  },
  {
   "cell_type": "code",
   "execution_count": 12,
   "id": "7a4bfe64",
   "metadata": {},
   "outputs": [
    {
     "data": {
      "text/plain": [
       "[True, 10.55, 34]"
      ]
     },
     "execution_count": 12,
     "metadata": {},
     "output_type": "execute_result"
    }
   ],
   "source": [
    "x[3:]"
   ]
  },
  {
   "cell_type": "code",
   "execution_count": 13,
   "id": "34f933b7",
   "metadata": {},
   "outputs": [
    {
     "name": "stdout",
     "output_type": "stream",
     "text": [
      "john\n",
      "james\n",
      "kate\n",
      "True\n",
      "10.55\n",
      "34\n"
     ]
    }
   ],
   "source": [
    "for i in x:\n",
    "    print(i)"
   ]
  },
  {
   "cell_type": "code",
   "execution_count": 16,
   "id": "939999da",
   "metadata": {},
   "outputs": [
    {
     "name": "stdout",
     "output_type": "stream",
     "text": [
      "john\n",
      "james\n",
      "kate\n",
      "True\n",
      "10.55\n",
      "34\n"
     ]
    }
   ],
   "source": [
    "for i in range(0, len(x)):\n",
    "    print(x[i])"
   ]
  },
  {
   "cell_type": "code",
   "execution_count": 21,
   "id": "a78df911",
   "metadata": {},
   "outputs": [
    {
     "name": "stdout",
     "output_type": "stream",
     "text": [
      "['john', 'james', 'kate', True, 10.55, 34]\n"
     ]
    }
   ],
   "source": [
    "array= []\n",
    "for i in range(0, len(x)):\n",
    "    array.append(x[i])\n",
    "print(array)"
   ]
  },
  {
   "cell_type": "code",
   "execution_count": 22,
   "id": "c19e4999",
   "metadata": {},
   "outputs": [
    {
     "data": {
      "text/plain": [
       "str"
      ]
     },
     "execution_count": 22,
     "metadata": {},
     "output_type": "execute_result"
    }
   ],
   "source": [
    "type(x[2])"
   ]
  },
  {
   "cell_type": "code",
   "execution_count": 23,
   "id": "2271b5d5",
   "metadata": {},
   "outputs": [
    {
     "name": "stdout",
     "output_type": "stream",
     "text": [
      "['john', 'james', 'kate', True, 10.55, 34]\n"
     ]
    }
   ],
   "source": [
    "print(x)"
   ]
  },
  {
   "cell_type": "code",
   "execution_count": 25,
   "id": "e5b037ba",
   "metadata": {},
   "outputs": [
    {
     "name": "stdout",
     "output_type": "stream",
     "text": [
      "10.55\n",
      "34\n"
     ]
    }
   ],
   "source": [
    "for i in x:\n",
    "    if type(i) == str or type(i) == bool:\n",
    "        pass\n",
    "    else:\n",
    "        print(i)"
   ]
  },
  {
   "cell_type": "code",
   "execution_count": 26,
   "id": "f24051e7",
   "metadata": {},
   "outputs": [
    {
     "name": "stdout",
     "output_type": "stream",
     "text": [
      "10.55\n",
      "34\n"
     ]
    }
   ],
   "source": [
    "for i in x:\n",
    "    if type(i) != str and type(i) != bool:\n",
    "        print(i)"
   ]
  },
  {
   "cell_type": "code",
   "execution_count": 30,
   "id": "6f9e7690",
   "metadata": {},
   "outputs": [
    {
     "name": "stdout",
     "output_type": "stream",
     "text": [
      "['jude', 'philip', 'reginald', 'jake', 'chowah']\n"
     ]
    }
   ],
   "source": [
    "p = [\"jude\", \"philip\", \"reginald\", \"caleb\", \"jake\", \"chowah\"]\n",
    "even_names = []\n",
    "odd_names = []\n",
    "for i in p:\n",
    "    if len(i)%2 == 0:\n",
    "        even_names.append(i)\n",
    "    else:\n",
    "        odd_names.append(i)\n",
    "print(even_names)"
   ]
  },
  {
   "cell_type": "code",
   "execution_count": 1,
   "id": "3be9f5ba",
   "metadata": {},
   "outputs": [
    {
     "name": "stdout",
     "output_type": "stream",
     "text": [
      "[]\n"
     ]
    }
   ],
   "source": [
    "p = [\"jude\", \"philip\", \"reginald\", \"caleb\", \"jake\", \"chowah\"]\n",
    "even_names = []\n",
    "odd_names = []\n",
    "for i in p:\n",
    "    if len(i)/2 == 0:\n",
    "        even_names.append(i)\n",
    "    else:\n",
    "        odd_names.append(i)\n",
    "print(even_names)"
   ]
  },
  {
   "cell_type": "code",
   "execution_count": 1,
   "id": "7b9a0ecc",
   "metadata": {},
   "outputs": [
    {
     "name": "stdout",
     "output_type": "stream",
     "text": [
      "['Ben', 'Tope', 'Abel']\n"
     ]
    }
   ],
   "source": [
    "upper_names = []\n",
    "names = [\"ben\", \"tope\", \"abel\"]\n",
    "for i in range(0, len(names)):\n",
    "    names_val = names[i][0].upper() + names[i][1:]\n",
    "    upper_names.append(names_val)\n",
    "print(upper_names)"
   ]
  },
  {
   "cell_type": "code",
   "execution_count": 2,
   "id": "e69fed7d",
   "metadata": {},
   "outputs": [
    {
     "data": {
      "text/plain": [
       "'en'"
      ]
     },
     "execution_count": 2,
     "metadata": {},
     "output_type": "execute_result"
    }
   ],
   "source": [
    "names[0][1:]"
   ]
  },
  {
   "cell_type": "code",
   "execution_count": 3,
   "id": "19245650",
   "metadata": {},
   "outputs": [
    {
     "data": {
      "text/plain": [
       "'NANI'"
      ]
     },
     "execution_count": 3,
     "metadata": {},
     "output_type": "execute_result"
    }
   ],
   "source": [
    "x = \"nani\"\n",
    "p = [\"jake\", 12]\n",
    "len(p)\n",
    "x.upper()"
   ]
  },
  {
   "cell_type": "code",
   "execution_count": 4,
   "id": "a57a8184",
   "metadata": {},
   "outputs": [
    {
     "name": "stdout",
     "output_type": "stream",
     "text": [
      "['jane', 'tobi']\n"
     ]
    }
   ],
   "source": [
    "p = [\"jane\"]\n",
    "b = ['tobi']\n",
    "\n",
    "p.append(b[0])\n",
    "print(p)"
   ]
  },
  {
   "cell_type": "code",
   "execution_count": 4,
   "id": "44788760",
   "metadata": {},
   "outputs": [
    {
     "name": "stdout",
     "output_type": "stream",
     "text": [
      "enter_value: beauty\n",
      "[]\n"
     ]
    }
   ],
   "source": [
    "input_value = input(\"enter_value: \")\n",
    "array = [\"john\", \"timothy\", 10, 33, \"jude\", \"beauty\"]\n",
    "new_arry = []\n",
    "for i in array:\n",
    "    b = str(i)\n",
    "    new_arry.append(b)\n",
    "f_ans = new_arry[new_arry.index(input_value)+1:]\n",
    "print(f_ans)"
   ]
  },
  {
   "cell_type": "code",
   "execution_count": 5,
   "id": "3c84c747",
   "metadata": {},
   "outputs": [
    {
     "name": "stdout",
     "output_type": "stream",
     "text": [
      "enter_value: jude\n",
      "['33', '10', 'timothy', 'john']\n"
     ]
    }
   ],
   "source": [
    "input_value = input(\"enter_value: \")\n",
    "array = [\"john\", \"timothy\", 10, 33, \"jude\", \"beauty\"]\n",
    "new_arry = []\n",
    "for i in array:\n",
    "    b = str(i)\n",
    "    new_arry.append(b)\n",
    "f_ans = new_arry[:new_arry.index(input_value)]\n",
    "f_ans.reverse()\n",
    "print(f_ans)"
   ]
  },
  {
   "cell_type": "code",
   "execution_count": 14,
   "id": "ab412ae9",
   "metadata": {},
   "outputs": [
    {
     "name": "stdout",
     "output_type": "stream",
     "text": [
      "enter_value: jude\n",
      "enter left or right: r\n",
      "['beauty']\n"
     ]
    }
   ],
   "source": [
    "array = [\"john\", \"timothy\", 10, 33, \"jude\", \"beauty\"]\n",
    "##########################################################\n",
    "input_value = input(\"enter_value: \")\n",
    "pick_from = input(\"enter left or right: \").lower()\n",
    "new_arry = []\n",
    "for i in array:\n",
    "    b = str(i)\n",
    "    new_arry.append(b)\n",
    "    \n",
    "if pick_from == \"l\":\n",
    "    f_ans = new_arry[:new_arry.index(input_value)]\n",
    "    f_ans.reverse()\n",
    "    print(f_ans)\n",
    "else:\n",
    "    f_ans = new_arry[new_arry.index(input_value)+1:]\n",
    "    print(f_ans)"
   ]
  },
  {
   "cell_type": "code",
   "execution_count": 15,
   "id": "5733cc65",
   "metadata": {},
   "outputs": [
    {
     "name": "stdout",
     "output_type": "stream",
     "text": [
      "['340k', '317k', '329k', '300k', '341k']\n",
      "['102c', '190c', '101c']\n"
     ]
    }
   ],
   "source": [
    "all_temperatures = []\n",
    "second_arrays = []\n",
    "temperature_value = [102, 67, 44, 190, 56, 27, 101, 68]\n",
    "for i in temperature_value:\n",
    "    if i < 100:\n",
    "        temp = i + 273\n",
    "        a = f\"{temp}k\"\n",
    "        all_temperatures.append(a)\n",
    "    else:\n",
    "        b = f\"{i}c\"\n",
    "        second_arrays.append(b)\n",
    "print(all_temperatures)\n",
    "print(second_arrays)"
   ]
  },
  {
   "cell_type": "code",
   "execution_count": 17,
   "id": "11de048f",
   "metadata": {},
   "outputs": [
    {
     "name": "stdout",
     "output_type": "stream",
     "text": [
      "[-5, -10, -15, -20]\n"
     ]
    }
   ],
   "source": [
    "a = [5, 10, 15, 20]\n",
    "b = [10, 20,30 , 40,]\n",
    "diff_arry = []\n",
    "\n",
    "if len(a) == len(b):\n",
    "    for i in range(0, len(a)):\n",
    "        diff = a[i] - b[i]\n",
    "        diff_arry.append(diff)\n",
    "else:\n",
    "    print(False)\n",
    "    \n",
    "print(diff_arry)"
   ]
  },
  {
   "cell_type": "code",
   "execution_count": null,
   "id": "29de3b10",
   "metadata": {},
   "outputs": [],
   "source": [
    "\n",
    "weight = float(input(\"enter weight value: \"))\n",
    "height = float(input(\"enter height value: \"))\n",
    "unit_weight = input(\"enter unit of weight: \").lower()\n",
    "unit_height = input(\"enter unit of height: \").lower()\n",
    "\n",
    "if unit_weight == \"g\" and unit_height == \"m\":\n",
    "    bmi_value = round((weight/1000)/(height**2), 4)\n",
    "    if bmi_value >= 25:\n",
    "        print(f\"you are over weight because your bmi value is {bmi_value}\")\n",
    "    elif bmi_value >15 and bmi_value < 25:\n",
    "        print(f\"your weight is normal because your bmi value is {bmi_value}\")\n",
    "    else:\n",
    "        print(f\"you are underweight and your bmi value is {bmi_value}\")\n",
    "        \n",
    "\n",
    "elif unit_weight ==\"kg\" and unit_height == \"m\":\n",
    "    bmi_value = round((weight)/(height**2), 4)\n",
    "    if bmi_value >= 25: \n",
    "        print(f\"you are overweight and your bmi value is {bmi_value}\")\n",
    "    elif bmi_value >15 and bmi_value <25:\n",
    "        print(f\"you are normal and your bmi_value is {bmi_value}\")\n",
    "    else:\n",
    "        print(f\"you are underweight and your bmi_value is {bmi_value}\")\n",
    "        \n",
    "        \n",
    "elif unit_weight == \"g\" and unit_height == \"cm\":\n",
    "    bmi_value = round((weight/1000)/((height/100)**2), 4)\n",
    "    if bmi_value >= 25: \n",
    "        print(f\"you are overweight and your bmi value is {bmi_value}\")\n",
    "    elif bmi_value >15 and bmi_value <25:\n",
    "        print(f\"you are normal and your bmi_value is {bmi_value}\")\n",
    "    else:\n",
    "        print(f\"you are underweight and your bmi_value is {bmi_value}\")\n",
    "        \n",
    "        \n",
    "elif unit_weight == \"kg\" and unit_height == \"cm\":\n",
    "    bmi_value = round((weight)/((height/100)**2), 4)\n",
    "    if bmi_value >= 25: \n",
    "        print(f\"you are overweight and your bmi value is {bmi_value}\")\n",
    "    elif bmi_value >15 and bmi_value <25:\n",
    "        print(f\"you are normal and your bmi_value is {bmi_value}\")\n",
    "    else:\n",
    "        print(f\"you are underweight and your bmi_value is {bmi_value}\")\n",
    "        \n",
    "        \n",
    "elif unit_weight == \"lb\" and unit_height == \"cm\":\n",
    "    bmi_value = round((weight*0.45)/((height/100)**2), 4)\n",
    "    if bmi_value >= 25: \n",
    "        print(f\"you are overweight and your bmi value is {bmi_value}\")\n",
    "    elif bmi_value >15 and bmi_value <25:\n",
    "        print(f\"you are normal and your bmi_value is {bmi_value}\")\n",
    "    else:\n",
    "        print(f\"you are underweight and your bmi_value is {bmi_value}\")\n",
    "        \n",
    "\n",
    "elif unit_weight == \"lb\" and unit_height == \"m\":\n",
    "    bmi_value = round((weight*0.45)/(height**2), 4)\n",
    "    if bmi_value >= 25: \n",
    "        print(f\"you are overweight and your bmi value is {bmi_value}\")\n",
    "    elif bmi_value >15 and bmi_value <25:\n",
    "        print(f\"you are normal and your bmi_value is {bmi_value}\")\n",
    "    else:\n",
    "        print(f\"you are underweight and your bmi_value is {bmi_value}\")\n",
    "        \n",
    "        \n",
    "elif unit_weight == \"lb\" and unit_height == \"ft\":\n",
    "    bmi_value = round((weight*0.45)/((height*0.3048)**2), 4)\n",
    "    if bmi_value >= 25: \n",
    "        print(f\"you are overweight and your bmi value is {bmi_value}\")\n",
    "    elif bmi_value >15 and bmi_value <25:\n",
    "        print(f\"you are normal and your bmi_value is {bmi_value}\")\n",
    "    else:\n",
    "        print(f\"you are underweight and your bmi_value is {bmi_value}\")\n",
    "        \n",
    "        \n",
    "\n",
    "elif unit_weight == \"kg\" and unit_height == \"in\":\n",
    "    bmi_value = round((weight)/((height*0.025)**2), 4)\n",
    "    if bmi_value >= 25: \n",
    "        print(f\"you are overweight and your bmi value is {bmi_value}\")\n",
    "    elif bmi_value >15 and bmi_value <25:\n",
    "        print(f\"you are normal and your bmi_value is {bmi_value}\")\n",
    "    else:\n",
    "        print(f\"you are underweight and your bmi_value is {bmi_value}\")"
   ]
  },
  {
   "cell_type": "code",
   "execution_count": null,
   "id": "1ad3bbe5",
   "metadata": {},
   "outputs": [],
   "source": []
  }
 ],
 "metadata": {
  "kernelspec": {
   "display_name": "Python 3 (ipykernel)",
   "language": "python",
   "name": "python3"
  },
  "language_info": {
   "codemirror_mode": {
    "name": "ipython",
    "version": 3
   },
   "file_extension": ".py",
   "mimetype": "text/x-python",
   "name": "python",
   "nbconvert_exporter": "python",
   "pygments_lexer": "ipython3",
   "version": "3.9.12"
  }
 },
 "nbformat": 4,
 "nbformat_minor": 5
}
