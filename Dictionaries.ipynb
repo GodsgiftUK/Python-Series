{
 "cells": [
  {
   "cell_type": "code",
   "execution_count": 1,
   "id": "0d10a933",
   "metadata": {},
   "outputs": [
    {
     "name": "stdout",
     "output_type": "stream",
     "text": [
      "['a', 'b', 'c']\n"
     ]
    }
   ],
   "source": [
    "a = [\"a\", \"b\", \"c\"]\n",
    "print(a)"
   ]
  },
  {
   "cell_type": "code",
   "execution_count": 2,
   "id": "326033f5",
   "metadata": {},
   "outputs": [
    {
     "name": "stdout",
     "output_type": "stream",
     "text": [
      "{'name': 'Tobi', 'age': 40, 'credit_score': 300}\n"
     ]
    }
   ],
   "source": [
    "a_dict = {\"name\": \"Tobi\", \"age\": 40, \"credit_score\":300}\n",
    "print(a_dict)"
   ]
  },
  {
   "cell_type": "code",
   "execution_count": 22,
   "id": "31218d13",
   "metadata": {},
   "outputs": [
    {
     "name": "stdout",
     "output_type": "stream",
     "text": [
      "name ==> Tobi\n",
      "age ==> 40\n",
      "credit_score ==> 300\n",
      "marital_status ==> married\n"
     ]
    }
   ],
   "source": [
    "for a, b in a_dict.items():\n",
    "    print(f\"{a} ==> {b}\")"
   ]
  },
  {
   "cell_type": "code",
   "execution_count": 6,
   "id": "dc05d84c",
   "metadata": {},
   "outputs": [
    {
     "name": "stdout",
     "output_type": "stream",
     "text": [
      "[{'name': 'emma', 'age': 10}, {'name': 'kate,', 'age': 20}]\n"
     ]
    }
   ],
   "source": [
    "new_dict = [{\"name\": \"emma\", \"age\": 10}, {\"name\": \"kate,\", \"age\": 20}]\n",
    "print(new_dict)"
   ]
  },
  {
   "cell_type": "code",
   "execution_count": 7,
   "id": "d90dc5a5",
   "metadata": {},
   "outputs": [
    {
     "name": "stdout",
     "output_type": "stream",
     "text": [
      "{'name': 'Tobi', 'age': 40, 'credit_score': 300, 'marital_status': 'married'}\n"
     ]
    }
   ],
   "source": [
    "a_dict[\"marital_status\"] = \"married\"\n",
    "print(a_dict)"
   ]
  },
  {
   "cell_type": "code",
   "execution_count": 8,
   "id": "a5e4c8da",
   "metadata": {},
   "outputs": [
    {
     "data": {
      "text/plain": [
       "[{'name': 'emma', 'age': 10}, {'name': 'kate,', 'age': 20}]"
      ]
     },
     "execution_count": 8,
     "metadata": {},
     "output_type": "execute_result"
    }
   ],
   "source": [
    "new_dict"
   ]
  },
  {
   "cell_type": "code",
   "execution_count": 9,
   "id": "801b4c7c",
   "metadata": {},
   "outputs": [
    {
     "name": "stdout",
     "output_type": "stream",
     "text": [
      "{'name': 'emma', 'age': 10}\n",
      "{'name': 'kate,', 'age': 20}\n"
     ]
    }
   ],
   "source": [
    "for i in new_dict:\n",
    "    print(i)"
   ]
  },
  {
   "cell_type": "code",
   "execution_count": 12,
   "id": "a8502045",
   "metadata": {},
   "outputs": [
    {
     "name": "stdout",
     "output_type": "stream",
     "text": [
      "[{'name': 'emma', 'age': 10, 'marital_status': 'married'}, {'name': 'kate,', 'age': 20, 'marital_status': 'married'}]\n"
     ]
    }
   ],
   "source": [
    "for i in new_dict:\n",
    "    i[\"marital_status\"] = \"married\"\n",
    "print(new_dict)"
   ]
  },
  {
   "cell_type": "code",
   "execution_count": 14,
   "id": "c2a75a2d",
   "metadata": {},
   "outputs": [
    {
     "name": "stdout",
     "output_type": "stream",
     "text": [
      "{'name': ['jake', 'fabian', 'matthew'], 'score': [20, 30, 25], 'age': [15, 8, 10]}\n"
     ]
    }
   ],
   "source": [
    "class_results = {\"name\": [\"jake\", \"fabian\", \"matthew\"],\n",
    "                 \"score\": [20, 30, 25],\n",
    "                 \"age\": [15, 8, 10]}\n",
    "print(class_results)"
   ]
  },
  {
   "cell_type": "code",
   "execution_count": 1,
   "id": "1adc1eb6",
   "metadata": {},
   "outputs": [
    {
     "name": "stdout",
     "output_type": "stream",
     "text": [
      "[{'name': 'dami', 'sales': 400}, {'name': 'kuro', 'sales': 320}, {'name': 'tobi', 'sales': 405}]\n"
     ]
    }
   ],
   "source": [
    "work_entry = [{\"name\": \"dami\", \"sales\":400}, {\"name\":\"kuro\", \"sales\":320}, {\"name\": \"tobi\", \"sales\": 405}]\n",
    "print(work_entry)"
   ]
  },
  {
   "cell_type": "code",
   "execution_count": 2,
   "id": "4bcd0914",
   "metadata": {},
   "outputs": [
    {
     "name": "stdout",
     "output_type": "stream",
     "text": [
      "[{'name': 'dami', 'sales': 400, 'salary': 1000}, {'name': 'kuro', 'sales': 320, 'salary': 1000}, {'name': 'tobi', 'sales': 405, 'salary': 1000}]\n"
     ]
    }
   ],
   "source": [
    "for i in work_entry:\n",
    "    i[\"salary\"] = 1000\n",
    "    \n",
    "print(work_entry)"
   ]
  },
  {
   "cell_type": "code",
   "execution_count": 3,
   "id": "0b869216",
   "metadata": {},
   "outputs": [
    {
     "name": "stdout",
     "output_type": "stream",
     "text": [
      "{'name': 'dami', 'sales': 400, 'salary': 1000}\n",
      "{'name': 'kuro', 'sales': 320, 'salary': 1000}\n",
      "{'name': 'tobi', 'sales': 405, 'salary': 1000}\n"
     ]
    }
   ],
   "source": [
    "for k in work_entry:\n",
    "    print(k)"
   ]
  },
  {
   "cell_type": "code",
   "execution_count": 4,
   "id": "33972c2d",
   "metadata": {},
   "outputs": [
    {
     "name": "stdout",
     "output_type": "stream",
     "text": [
      "{'name': 'dami', 'sales': 400, 'salary': 1000}\n",
      "{'name': 'tobi', 'sales': 405, 'salary': 1000}\n"
     ]
    }
   ],
   "source": [
    "for k in work_entry:\n",
    "    if k[\"sales\"] >= 400:\n",
    "        print(k)"
   ]
  },
  {
   "cell_type": "code",
   "execution_count": 6,
   "id": "73a1181d",
   "metadata": {},
   "outputs": [
    {
     "name": "stdout",
     "output_type": "stream",
     "text": [
      "[{'name': 'dami', 'sales': 400, 'salary': 1.331e+17}, {'name': 'kuro', 'sales': 320, 'salary': 1000}, {'name': 'tobi', 'sales': 405, 'salary': 1.331e+17}]\n"
     ]
    }
   ],
   "source": [
    "for k in work_entry:\n",
    "    for a, b in k.items():\n",
    "        if k[\"sales\"] >= 400:\n",
    "            k[\"salary\"] = k[\"salary\"] * 0.10 + k[\"salary\"]\n",
    "print(work_entry)"
   ]
  },
  {
   "cell_type": "code",
   "execution_count": 8,
   "id": "546c28fe",
   "metadata": {},
   "outputs": [
    {
     "name": "stdout",
     "output_type": "stream",
     "text": [
      "{'name': 'dami', 'sales': 400, 'salary': 1.331e+17}\n"
     ]
    }
   ],
   "source": [
    "for i in work_entry:\n",
    "    for a, b in i.items():\n",
    "        b_vals = str(b)\n",
    "        if \"a\" in b_vals:\n",
    "            print(i)"
   ]
  },
  {
   "cell_type": "code",
   "execution_count": 11,
   "id": "ef1bc7d2",
   "metadata": {},
   "outputs": [
    {
     "name": "stdout",
     "output_type": "stream",
     "text": [
      "{'name': 'dami', 'sales': 400, 'salary': 1.331e+17}\n",
      "dami\n"
     ]
    }
   ],
   "source": [
    "for i in work_entry:\n",
    "    name_vals = i[\"name\"]\n",
    "    if \"a\" in name_vals:\n",
    "            print(i)\n",
    " #           print(i[\"name\"])"
   ]
  },
  {
   "cell_type": "code",
   "execution_count": 16,
   "id": "1b5b4688",
   "metadata": {
    "scrolled": true
   },
   "outputs": [
    {
     "data": {
      "text/html": [
       "<div>\n",
       "<style scoped>\n",
       "    .dataframe tbody tr th:only-of-type {\n",
       "        vertical-align: middle;\n",
       "    }\n",
       "\n",
       "    .dataframe tbody tr th {\n",
       "        vertical-align: top;\n",
       "    }\n",
       "\n",
       "    .dataframe thead th {\n",
       "        text-align: right;\n",
       "    }\n",
       "</style>\n",
       "<table border=\"1\" class=\"dataframe\">\n",
       "  <thead>\n",
       "    <tr style=\"text-align: right;\">\n",
       "      <th></th>\n",
       "      <th>name</th>\n",
       "      <th>score</th>\n",
       "      <th>age</th>\n",
       "    </tr>\n",
       "  </thead>\n",
       "  <tbody>\n",
       "    <tr>\n",
       "      <th>0</th>\n",
       "      <td>jake</td>\n",
       "      <td>20</td>\n",
       "      <td>15</td>\n",
       "    </tr>\n",
       "    <tr>\n",
       "      <th>1</th>\n",
       "      <td>fabian</td>\n",
       "      <td>30</td>\n",
       "      <td>8</td>\n",
       "    </tr>\n",
       "    <tr>\n",
       "      <th>2</th>\n",
       "      <td>matthew</td>\n",
       "      <td>25</td>\n",
       "      <td>10</td>\n",
       "    </tr>\n",
       "  </tbody>\n",
       "</table>\n",
       "</div>"
      ],
      "text/plain": [
       "      name  score  age\n",
       "0     jake     20   15\n",
       "1   fabian     30    8\n",
       "2  matthew     25   10"
      ]
     },
     "execution_count": 16,
     "metadata": {},
     "output_type": "execute_result"
    }
   ],
   "source": [
    "import pandas as pd\n",
    "res = pd.DataFrame(class_results)\n",
    "res"
   ]
  },
  {
   "cell_type": "code",
   "execution_count": 20,
   "id": "6647a6ea",
   "metadata": {},
   "outputs": [
    {
     "data": {
      "text/plain": [
       "0.9649660284921133"
      ]
     },
     "execution_count": 20,
     "metadata": {},
     "output_type": "execute_result"
    }
   ],
   "source": [
    "import math as m\n",
    "a = 50\n",
    "m.cos(a)"
   ]
  },
  {
   "cell_type": "code",
   "execution_count": 26,
   "id": "a361d7b4",
   "metadata": {},
   "outputs": [
    {
     "name": "stdout",
     "output_type": "stream",
     "text": [
      "[12, 9, 'tami', 9, 'tami', 'tami', 'tami', 'jonathan', 12, 12, 12, 'tami', 'tami']\n"
     ]
    }
   ],
   "source": [
    "array = [12, 9, \"tami\", 9, \"tami\",\"tami\", \"tami\", \"jonathan\", 12, 12, 12, \"tami\", \"tami\"]\n",
    "print(array)"
   ]
  },
  {
   "cell_type": "code",
   "execution_count": 27,
   "id": "82640634",
   "metadata": {},
   "outputs": [
    {
     "name": "stdout",
     "output_type": "stream",
     "text": [
      "{12: 4, 9: 2, 'tami': 6, 'jonathan': 1}\n"
     ]
    }
   ],
   "source": [
    "hash_tab = {}\n",
    "\n",
    "for i in array:\n",
    "    hash_tab[i] = hash_tab.get(i, 0) + 1\n",
    "print(hash_tab)"
   ]
  },
  {
   "cell_type": "code",
   "execution_count": 28,
   "id": "df345603",
   "metadata": {},
   "outputs": [
    {
     "name": "stdout",
     "output_type": "stream",
     "text": [
      "{12: 4, 9: 2, 'tami': 6, 'jonathan': 1}\n"
     ]
    }
   ],
   "source": [
    "print(hash_tab)"
   ]
  },
  {
   "cell_type": "code",
   "execution_count": 29,
   "id": "1bb59fc7",
   "metadata": {},
   "outputs": [
    {
     "name": "stdout",
     "output_type": "stream",
     "text": [
      "[4, 2, 6, 1]\n"
     ]
    }
   ],
   "source": [
    "high_tab = []\n",
    "for a, b in hash_tab.items():\n",
    "    high_tab.append(b)\n",
    "print(high_tab)"
   ]
  },
  {
   "cell_type": "code",
   "execution_count": 30,
   "id": "cde83d0c",
   "metadata": {},
   "outputs": [
    {
     "name": "stdout",
     "output_type": "stream",
     "text": [
      "tami\n"
     ]
    }
   ],
   "source": [
    "a_max = high_tab[0]\n",
    "for i in high_tab:\n",
    "    if i > a_max:\n",
    "         a_max = i\n",
    "for k, n in hash_tab.items():\n",
    "        if n == a_max:\n",
    "            print(k)"
   ]
  },
  {
   "cell_type": "code",
   "execution_count": null,
   "id": "a95fee42",
   "metadata": {},
   "outputs": [],
   "source": []
  }
 ],
 "metadata": {
  "kernelspec": {
   "display_name": "Python 3 (ipykernel)",
   "language": "python",
   "name": "python3"
  },
  "language_info": {
   "codemirror_mode": {
    "name": "ipython",
    "version": 3
   },
   "file_extension": ".py",
   "mimetype": "text/x-python",
   "name": "python",
   "nbconvert_exporter": "python",
   "pygments_lexer": "ipython3",
   "version": "3.9.12"
  }
 },
 "nbformat": 4,
 "nbformat_minor": 5
}
