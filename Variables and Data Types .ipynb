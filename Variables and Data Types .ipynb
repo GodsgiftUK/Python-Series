{
 "cells": [
  {
   "cell_type": "code",
   "execution_count": 1,
   "id": "5cdc0432",
   "metadata": {},
   "outputs": [
    {
     "name": "stdout",
     "output_type": "stream",
     "text": [
      "5.5\n"
     ]
    }
   ],
   "source": [
    "print(5.5)"
   ]
  },
  {
   "cell_type": "code",
   "execution_count": 2,
   "id": "9dec76a3",
   "metadata": {},
   "outputs": [
    {
     "name": "stdout",
     "output_type": "stream",
     "text": [
      "<class 'float'>\n"
     ]
    }
   ],
   "source": [
    "print(type(5.5))"
   ]
  },
  {
   "cell_type": "markdown",
   "id": "fda7b923",
   "metadata": {},
   "source": [
    "print(type(False))"
   ]
  },
  {
   "cell_type": "code",
   "execution_count": 16,
   "id": "3a3a3486",
   "metadata": {},
   "outputs": [
    {
     "name": "stdout",
     "output_type": "stream",
     "text": [
      "<class 'bool'>\n"
     ]
    }
   ],
   "source": [
    "a = True\n",
    "print(type(a))"
   ]
  },
  {
   "cell_type": "code",
   "execution_count": 7,
   "id": "2cd59f48",
   "metadata": {},
   "outputs": [
    {
     "name": "stdout",
     "output_type": "stream",
     "text": [
      "8\n"
     ]
    }
   ],
   "source": [
    "a = 5\n",
    "b = 3\n",
    "print(a+b)"
   ]
  },
  {
   "cell_type": "code",
   "execution_count": 8,
   "id": "114b8c7c",
   "metadata": {},
   "outputs": [
    {
     "name": "stdout",
     "output_type": "stream",
     "text": [
      "enter value 1: 5.5\n",
      "enter value 2: 2.5\n",
      "8.0\n"
     ]
    }
   ],
   "source": [
    "print(float(input(\"enter value 1: \")) + float(input(\"enter value 2: \")))"
   ]
  },
  {
   "cell_type": "code",
   "execution_count": 17,
   "id": "e3527b30",
   "metadata": {},
   "outputs": [
    {
     "name": "stdout",
     "output_type": "stream",
     "text": [
      "enter value 1: 5.5\n",
      "enter value 2: 3.4\n",
      "the sum of value is 8.9\n"
     ]
    }
   ],
   "source": [
    "a_var = float(input(\"enter value 1: \"))\n",
    "b_var = float(input(\"enter value 2: \"))\n",
    "print(f\"the sum of value is {a_var + b_var}\")"
   ]
  },
  {
   "cell_type": "code",
   "execution_count": 11,
   "id": "6a68cfd2",
   "metadata": {},
   "outputs": [
    {
     "name": "stdout",
     "output_type": "stream",
     "text": [
      "enter name: Godsgift\n",
      "enter year you were born: 1998\n",
      "************************************************************\n",
      "my name is Godsgift.\n",
      "I was born 24 years ago.\n"
     ]
    }
   ],
   "source": [
    "name = input(\"enter name: \")\n",
    "birth_year = int(input(\"enter year you were born: \"))\n",
    "print(\"*\" * 60)\n",
    "print(f\"\"\"my name is {name}.\n",
    "I was born {2022 - birth_year} years ago.\"\"\")"
   ]
  },
  {
   "cell_type": "markdown",
   "id": "fa6325ce",
   "metadata": {},
   "source": [
    "### Conditionals"
   ]
  },
  {
   "cell_type": "markdown",
   "id": "10c66e98",
   "metadata": {},
   "source": [
    "1. c = 5/9 * (f - 32)\n",
    "2. f = 9/5 * (c + 32)"
   ]
  },
  {
   "cell_type": "code",
   "execution_count": 13,
   "id": "7aea3d5a",
   "metadata": {},
   "outputs": [
    {
     "name": "stdout",
     "output_type": "stream",
     "text": [
      "enter temperature value: 5\n",
      "enter unit (f/c): f\n",
      "the tempearture value in kelvin is 258.0\n"
     ]
    }
   ],
   "source": [
    "temperature_value = float(input(\"enter temperature value: \"))\n",
    "unit = input(\"enter unit (f/c): \")\n",
    "\n",
    "if unit == \"f\":\n",
    "    celcuis = (5/9) * (temperature_value - 32)\n",
    "    if celcuis < 0:\n",
    "        kelvin = celcuis + 273\n",
    "        print(f\"the tempearture value in kelvin is {kelvin}\")\n",
    "    else:\n",
    "        print(f\"the temperatur value from fahr to celcuis is {round(celcuis, 2)} degree celcuis\")\n",
    "        \n",
    "elif unit == \"c\":\n",
    "    fahr = (9/5) * (temperature_value + 32)\n",
    "    print(f\"the temperatur value from celcuis to fahrenheit is {round(fahr, 2)} degrees fahrenheit\")\n",
    "else:\n",
    "    print(\"i dont understand inputs\")"
   ]
  },
  {
   "cell_type": "markdown",
   "id": "a4851b18",
   "metadata": {},
   "source": [
    "#### Body mass index calculator"
   ]
  },
  {
   "cell_type": "code",
   "execution_count": 14,
   "id": "51e3d90d",
   "metadata": {},
   "outputs": [
    {
     "name": "stdout",
     "output_type": "stream",
     "text": [
      "enter weight value: 67\n",
      "enter height value: 2.7\n",
      "enter unit of weight: g\n",
      "enter unit of height: m\n",
      "you are underweight and your bmi value is 0.0092\n"
     ]
    }
   ],
   "source": [
    "weight = float(input(\"enter weight value: \"))\n",
    "height = float(input(\"enter height value: \"))\n",
    "unit_weight = input(\"enter unit of weight: \").lower()\n",
    "unit_height = input(\"enter unit of height: \").lower()\n",
    "\n",
    "if unit_weight == \"g\" and unit_height == \"m\":\n",
    "    bmi_value = round((weight/1000)/(height**2), 4)\n",
    "    if bmi_value >= 25:\n",
    "        print(f\"you are over weight because your bmi value is {bmi_value}\")\n",
    "    elif bmi_value >15 and bmi_value < 25:\n",
    "        print(f\"your weight is normal because your bmi value is {bmi_value}\")\n",
    "    else:\n",
    "        print(f\"you are underweight and your bmi value is {bmi_value}\")\n",
    "        \n",
    "else:\n",
    "    print(\"i dont understand input\")"
   ]
  },
  {
   "cell_type": "code",
   "execution_count": null,
   "id": "4af79909",
   "metadata": {},
   "outputs": [],
   "source": []
  }
 ],
 "metadata": {
  "kernelspec": {
   "display_name": "Python 3 (ipykernel)",
   "language": "python",
   "name": "python3"
  },
  "language_info": {
   "codemirror_mode": {
    "name": "ipython",
    "version": 3
   },
   "file_extension": ".py",
   "mimetype": "text/x-python",
   "name": "python",
   "nbconvert_exporter": "python",
   "pygments_lexer": "ipython3",
   "version": "3.9.12"
  }
 },
 "nbformat": 4,
 "nbformat_minor": 5
}
