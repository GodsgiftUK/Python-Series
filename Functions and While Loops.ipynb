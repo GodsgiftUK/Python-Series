{
 "cells": [
  {
   "cell_type": "markdown",
   "id": "f82f1a95",
   "metadata": {},
   "source": [
    "Funtions are re-usable block of codes"
   ]
  },
  {
   "cell_type": "code",
   "execution_count": 1,
   "id": "52564a96",
   "metadata": {},
   "outputs": [
    {
     "name": "stdout",
     "output_type": "stream",
     "text": [
      "7.5\n"
     ]
    }
   ],
   "source": [
    "array = [2, 7, 10, 11]\n",
    "\n",
    "sum_array = 0\n",
    "for i in array:\n",
    "    sum_array = i + sum_array\n",
    "print(sum_array/len(array))"
   ]
  },
  {
   "cell_type": "code",
   "execution_count": 6,
   "id": "bb498cc1",
   "metadata": {},
   "outputs": [],
   "source": [
    "def mean_array(array):\n",
    "    sum_array = 0\n",
    "    for i in array:\n",
    "        sum_array = i + sum_array\n",
    "    print(sum_array/len(array))"
   ]
  },
  {
   "cell_type": "code",
   "execution_count": 7,
   "id": "238b9883",
   "metadata": {},
   "outputs": [],
   "source": [
    "t = [1, 2, 5]\n",
    "a = [6, 4, 1]\n",
    "b = [9, 8, 11]"
   ]
  },
  {
   "cell_type": "code",
   "execution_count": 8,
   "id": "08f07a74",
   "metadata": {},
   "outputs": [
    {
     "name": "stdout",
     "output_type": "stream",
     "text": [
      "2.6666666666666665\n"
     ]
    }
   ],
   "source": [
    "mean_array(t)"
   ]
  },
  {
   "cell_type": "code",
   "execution_count": 9,
   "id": "c146050d",
   "metadata": {},
   "outputs": [
    {
     "name": "stdout",
     "output_type": "stream",
     "text": [
      "3.6666666666666665\n"
     ]
    }
   ],
   "source": [
    "mean_array(a)"
   ]
  },
  {
   "cell_type": "code",
   "execution_count": 10,
   "id": "aa63947e",
   "metadata": {},
   "outputs": [
    {
     "name": "stdout",
     "output_type": "stream",
     "text": [
      "9.333333333333334\n"
     ]
    }
   ],
   "source": [
    "mean_array(b)"
   ]
  },
  {
   "cell_type": "code",
   "execution_count": null,
   "id": "79dd2338",
   "metadata": {},
   "outputs": [],
   "source": [
    "#y(x, p) = 2x + 5p + 10"
   ]
  },
  {
   "cell_type": "code",
   "execution_count": 12,
   "id": "401afde8",
   "metadata": {},
   "outputs": [],
   "source": [
    "def y(x, p):\n",
    "    b = 2*(x) + 5*(p) + 10\n",
    "    print(b)"
   ]
  },
  {
   "cell_type": "code",
   "execution_count": 14,
   "id": "e82e87df",
   "metadata": {},
   "outputs": [],
   "source": [
    "a = 10\n",
    "b = 11"
   ]
  },
  {
   "cell_type": "code",
   "execution_count": 15,
   "id": "ec8d8679",
   "metadata": {},
   "outputs": [
    {
     "name": "stdout",
     "output_type": "stream",
     "text": [
      "85\n",
      "None\n"
     ]
    }
   ],
   "source": [
    "x = y(a, b)\n",
    "print(x)"
   ]
  },
  {
   "cell_type": "code",
   "execution_count": 16,
   "id": "716233da",
   "metadata": {},
   "outputs": [
    {
     "name": "stdout",
     "output_type": "stream",
     "text": [
      "85\n"
     ]
    }
   ],
   "source": [
    "def y(x, p):\n",
    "    b = 2*(x) + 5*(p) + 10\n",
    "    return b\n",
    "x = y(a, b)\n",
    "print(x)"
   ]
  },
  {
   "cell_type": "code",
   "execution_count": null,
   "id": "4b7bbb21",
   "metadata": {},
   "outputs": [],
   "source": [
    "#total income = 100"
   ]
  },
  {
   "cell_type": "code",
   "execution_count": 20,
   "id": "6c4b7072",
   "metadata": {},
   "outputs": [
    {
     "name": "stdout",
     "output_type": "stream",
     "text": [
      "0.125\n"
     ]
    }
   ],
   "source": [
    "def simple_interest(p, r, t):\n",
    "    s_i = (p*r*t)/100\n",
    "    return s_i\n",
    "\n",
    "interest = simple_interest(10, 0.5, 2.5)\n",
    "print(interest)"
   ]
  },
  {
   "cell_type": "code",
   "execution_count": 21,
   "id": "98e80c14",
   "metadata": {},
   "outputs": [],
   "source": [
    "p = [10, 20, 15, 40]\n",
    "r = [0.12, 0.56, 0.77, 0.3]\n",
    "t = [1.5, 2.5, 3, 1.1]"
   ]
  },
  {
   "cell_type": "code",
   "execution_count": 23,
   "id": "89e5cbfd",
   "metadata": {},
   "outputs": [
    {
     "name": "stdout",
     "output_type": "stream",
     "text": [
      "[0.018, 0.28, 0.34650000000000003, 0.132]\n"
     ]
    }
   ],
   "source": [
    "def simple_interest(p, r, t):\n",
    "    s_i = (p*r*t)/100\n",
    "    return s_i\n",
    "\n",
    "interest_array = []\n",
    "for i in range(0, len(p)):\n",
    "    interest = simple_interest(p[i], r[i], t[i])\n",
    "    interest_array.append(interest)\n",
    "print(interest_array)\n",
    "                          "
   ]
  },
  {
   "cell_type": "code",
   "execution_count": 25,
   "id": "3d7d91ad",
   "metadata": {},
   "outputs": [
    {
     "name": "stdout",
     "output_type": "stream",
     "text": [
      "[0.018, 0.28, 0.34650000000000003, 0.132]\n"
     ]
    }
   ],
   "source": [
    "def simple_interest(p, r, t):\n",
    "    s_i = (p*r*t)/100\n",
    "    return s_i\n",
    "\n",
    "def int_simple(p,r,t):\n",
    "    interest_array = []\n",
    "    for i in range(0, len(p)):\n",
    "        interest = simple_interest(p[i], r[i], t[i])\n",
    "        interest_array.append(interest)\n",
    "    return interest_array\n",
    "\n",
    "p = [10, 20, 15, 40]\n",
    "r = [0.12, 0.56, 0.77, 0.3]\n",
    "t = [1.5, 2.5, 3, 1.1]\n",
    "\n",
    "a = int_simple(p, r, t)\n",
    "print(a)"
   ]
  },
  {
   "cell_type": "code",
   "execution_count": 26,
   "id": "d2853f39",
   "metadata": {},
   "outputs": [
    {
     "name": "stdout",
     "output_type": "stream",
     "text": [
      "32.0\n"
     ]
    }
   ],
   "source": [
    "#force = mass * velocity\n",
    "#velocity = distance/time\n",
    "\n",
    "#d = 10\n",
    "#time = 2.5\n",
    "#mass = 20\n",
    "\n",
    "def vel(d, t):\n",
    "    vel = d/t\n",
    "    return vel\n",
    "\n",
    "def acc(vel, t):\n",
    "    a = vel/t\n",
    "    return a\n",
    "\n",
    "def force(m,a):\n",
    "    f = m * a\n",
    "    return f\n",
    "\n",
    "velocity = vel(10, 2.5)\n",
    "#print(velocity)\n",
    "acceleration = acc(velocity, 2.5)\n",
    "#print(acceleration)\n",
    "f= force(20, acceleration)\n",
    "print(f)"
   ]
  },
  {
   "cell_type": "code",
   "execution_count": 32,
   "id": "8f131a01",
   "metadata": {},
   "outputs": [
    {
     "name": "stdout",
     "output_type": "stream",
     "text": [
      "0\n",
      "0\n",
      "0\n"
     ]
    }
   ],
   "source": [
    "array = [\"ch\", \"ch\", 2, 5, 10, \"ch\"]\n",
    "for i in array:\n",
    "    if i == \"ch\":\n",
    "        print(array.index(i))\n"
   ]
  },
  {
   "cell_type": "code",
   "execution_count": 33,
   "id": "2a8988c1",
   "metadata": {},
   "outputs": [
    {
     "name": "stdout",
     "output_type": "stream",
     "text": [
      "1\n"
     ]
    }
   ],
   "source": [
    "a = [1, 2]\n",
    "print(a[0])"
   ]
  },
  {
   "cell_type": "code",
   "execution_count": null,
   "id": "27d511be",
   "metadata": {},
   "outputs": [],
   "source": [
    "#tuple"
   ]
  },
  {
   "cell_type": "code",
   "execution_count": 34,
   "id": "584cf3a8",
   "metadata": {},
   "outputs": [
    {
     "name": "stdout",
     "output_type": "stream",
     "text": [
      "ch\n",
      "ch\n",
      "2\n",
      "5\n",
      "10\n",
      "ch\n"
     ]
    }
   ],
   "source": [
    "for i in enumerate(array):\n",
    "    print(i[1])"
   ]
  },
  {
   "cell_type": "code",
   "execution_count": 37,
   "id": "2c63951d",
   "metadata": {},
   "outputs": [],
   "source": [
    "list_array = []\n",
    "for i in enumerate(array):\n",
    "    if i[1] == \"ch\":\n",
    "        list_array.append(i[0])"
   ]
  },
  {
   "cell_type": "code",
   "execution_count": 38,
   "id": "6a8cf227",
   "metadata": {},
   "outputs": [
    {
     "data": {
      "text/plain": [
       "[0, 1, 5]"
      ]
     },
     "execution_count": 38,
     "metadata": {},
     "output_type": "execute_result"
    }
   ],
   "source": [
    "list_array"
   ]
  },
  {
   "cell_type": "code",
   "execution_count": 1,
   "id": "10162c73",
   "metadata": {},
   "outputs": [
    {
     "name": "stdout",
     "output_type": "stream",
     "text": [
      "[['alphabet', 'number', 'sex'], ['a', 'b', 'c'], [10, 15, 20], ['m', 'f', 'm']]\n"
     ]
    }
   ],
   "source": [
    "data = [[\"alphabet\", \"number\", \"sex\"], [\"a\", \"b\", \"c\"], [10, 15, 20], [\"m\", \"f\", \"m\"]]\n",
    "print(data)"
   ]
  },
  {
   "cell_type": "code",
   "execution_count": 2,
   "id": "f228ade6",
   "metadata": {},
   "outputs": [
    {
     "name": "stdout",
     "output_type": "stream",
     "text": [
      "enter column value: number\n",
      "number\n",
      "1\n",
      "['b', 15, 'f']\n"
     ]
    }
   ],
   "source": [
    "def input_col():\n",
    "    col = input('enter column value: ')\n",
    "    return col\n",
    "\n",
    "def get_col_index(col, data):\n",
    "    for i in enumerate(data[0]):\n",
    "        if col in i:\n",
    "            pos = i[0]\n",
    "    return pos\n",
    "    \n",
    "def get_pos(pos, data):\n",
    "    array = []\n",
    "    for i in data[1:]:\n",
    "        pos_val = i[pos]\n",
    "        array.append(pos_val)\n",
    "    return array\n",
    "\n",
    "data = [[\"alphabet\", \"number\", \"sex\"], [\"a\", \"b\", \"c\"], [10, 15, 20], [\"m\", \"f\", \"m\"]]\n",
    "inp_col = input_col()\n",
    "print(inp_col)\n",
    "col_name = get_col_index(inp_col, data)\n",
    "print(col_name)\n",
    "val_position = get_pos(col_name, data)\n",
    "print(val_position)"
   ]
  },
  {
   "cell_type": "code",
   "execution_count": 3,
   "id": "b9d02227",
   "metadata": {},
   "outputs": [
    {
     "name": "stdout",
     "output_type": "stream",
     "text": [
      "a\n",
      "10\n",
      "m\n"
     ]
    }
   ],
   "source": [
    "for i in data[1:]:\n",
    "    print(i[0])"
   ]
  },
  {
   "cell_type": "code",
   "execution_count": 4,
   "id": "e3cd7d58",
   "metadata": {},
   "outputs": [
    {
     "name": "stdout",
     "output_type": "stream",
     "text": [
      "['alphabet', 'number', 'sex']\n",
      "['a', 'b', 'c']\n",
      "[10, 15, 20]\n",
      "['m', 'f', 'm']\n"
     ]
    }
   ],
   "source": [
    "for i in data:\n",
    "    print(i)"
   ]
  },
  {
   "cell_type": "code",
   "execution_count": 5,
   "id": "00262a13",
   "metadata": {},
   "outputs": [],
   "source": [
    "import pandas as pd"
   ]
  },
  {
   "cell_type": "code",
   "execution_count": 8,
   "id": "290c3ec7",
   "metadata": {},
   "outputs": [],
   "source": [
    "df = pd.DataFrame(data[1:])\n",
    "df.columns = data[0]"
   ]
  },
  {
   "cell_type": "code",
   "execution_count": 9,
   "id": "0541d95e",
   "metadata": {},
   "outputs": [
    {
     "data": {
      "text/html": [
       "<div>\n",
       "<style scoped>\n",
       "    .dataframe tbody tr th:only-of-type {\n",
       "        vertical-align: middle;\n",
       "    }\n",
       "\n",
       "    .dataframe tbody tr th {\n",
       "        vertical-align: top;\n",
       "    }\n",
       "\n",
       "    .dataframe thead th {\n",
       "        text-align: right;\n",
       "    }\n",
       "</style>\n",
       "<table border=\"1\" class=\"dataframe\">\n",
       "  <thead>\n",
       "    <tr style=\"text-align: right;\">\n",
       "      <th></th>\n",
       "      <th>alphabet</th>\n",
       "      <th>number</th>\n",
       "      <th>sex</th>\n",
       "    </tr>\n",
       "  </thead>\n",
       "  <tbody>\n",
       "    <tr>\n",
       "      <th>0</th>\n",
       "      <td>a</td>\n",
       "      <td>b</td>\n",
       "      <td>c</td>\n",
       "    </tr>\n",
       "    <tr>\n",
       "      <th>1</th>\n",
       "      <td>10</td>\n",
       "      <td>15</td>\n",
       "      <td>20</td>\n",
       "    </tr>\n",
       "    <tr>\n",
       "      <th>2</th>\n",
       "      <td>m</td>\n",
       "      <td>f</td>\n",
       "      <td>m</td>\n",
       "    </tr>\n",
       "  </tbody>\n",
       "</table>\n",
       "</div>"
      ],
      "text/plain": [
       "  alphabet number sex\n",
       "0        a      b   c\n",
       "1       10     15  20\n",
       "2        m      f   m"
      ]
     },
     "execution_count": 9,
     "metadata": {},
     "output_type": "execute_result"
    }
   ],
   "source": [
    "df"
   ]
  },
  {
   "cell_type": "code",
   "execution_count": null,
   "id": "6e2fd7fe",
   "metadata": {},
   "outputs": [],
   "source": []
  }
 ],
 "metadata": {
  "kernelspec": {
   "display_name": "Python 3 (ipykernel)",
   "language": "python",
   "name": "python3"
  },
  "language_info": {
   "codemirror_mode": {
    "name": "ipython",
    "version": 3
   },
   "file_extension": ".py",
   "mimetype": "text/x-python",
   "name": "python",
   "nbconvert_exporter": "python",
   "pygments_lexer": "ipython3",
   "version": "3.9.12"
  }
 },
 "nbformat": 4,
 "nbformat_minor": 5
}
